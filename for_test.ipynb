{
 "cells": [
  {
   "cell_type": "code",
   "execution_count": 2,
   "metadata": {},
   "outputs": [],
   "source": [
    "import zipfile\n",
    "import os\n",
    "import csv\n",
    "import json\n",
    "from dateutil.relativedelta import relativedelta\n",
    "import datetime\n",
    "import time\n",
    "import pandas as pd\n",
    "import numpy as np\n",
    "from selenium import webdriver\n",
    "from selenium.common.exceptions import TimeoutException\n",
    "from selenium.webdriver.common.by import By\n",
    "from selenium.webdriver.support import expected_conditions as EC\n",
    "from selenium.webdriver.support.ui import WebDriverWait\n",
    "from selenium.webdriver.common.keys import Keys\n",
    "from selenium.webdriver.support.select import Select\n",
    "from selenium.webdriver.chrome.options import Options\n",
    "from selenium.webdriver.common.action_chains import ActionChains\n",
    "import pyautogui\n",
    "import module\n"
   ]
  },
  {
   "cell_type": "code",
   "execution_count": 10,
   "metadata": {},
   "outputs": [],
   "source": [
    "with open('Gmaps.json', 'r', encoding='utf-8') as f:\n",
    "    data = json.load(f)\n",
    "\n",
    "# Convert the JSON data into a Pandas DataFrame\n",
    "df = pd.DataFrame(data)\n",
    "df.to_csv(\"Gmaps.csv\")"
   ]
  },
  {
   "cell_type": "code",
   "execution_count": 14,
   "metadata": {},
   "outputs": [
    {
     "name": "stdout",
     "output_type": "stream",
     "text": [
      "57119\n"
     ]
    }
   ],
   "source": [
    "with open('Gmaps.json', 'r', encoding='utf-8') as f:\n",
    "    data = json.load(f)\n",
    "\n",
    "\n",
    "df = pd.DataFrame(data)\n",
    "print(len(df[\"名字\"]))"
   ]
  },
  {
   "cell_type": "code",
   "execution_count": 13,
   "metadata": {},
   "outputs": [],
   "source": [
    "# 刪除某地點的所有comments\n",
    "\n",
    "import json\n",
    "\n",
    "# load the JSON data from a file\n",
    "with open('Gmaps.json', 'r', encoding='utf-8') as f:\n",
    "    data = json.load(f)\n",
    "\n",
    "# loop through each element in the JSON array\n",
    "for i in data[:]:\n",
    "    # check if the value of \"地點\" is \"apple\"\n",
    "    if i.get(\"地點\") == \"スシロー壽司郎 台南南紡店\":\n",
    "        data.remove(i)\n",
    "\n",
    "# save the updated JSON data back to the file\n",
    "with open('Gmaps.json', 'w', encoding = 'utf-8') as f:\n",
    "    json.dump(data, f, ensure_ascii=False)\n",
    "\n"
   ]
  },
  {
   "cell_type": "code",
   "execution_count": 2,
   "metadata": {},
   "outputs": [],
   "source": [
    "options = Options()\n",
    "options.chrome_executable_path= \"D:\\Python\\chromedriver.exe\"\n",
    "# options.add_argument(\"--start-maximized\")\n",
    "# options.add_argument(\"window-size=1920,1080\")\n",
    "# option.add_argument(\"--disable-notifications\")\n",
    "# option.add_argument(\"--disable-popup-blocking\")\n",
    "# option.add_argument('--headless=new') # 打開背景模式\n",
    "driver = webdriver.Chrome(options=options)"
   ]
  },
  {
   "cell_type": "code",
   "execution_count": null,
   "metadata": {},
   "outputs": [],
   "source": []
  },
  {
   "cell_type": "code",
   "execution_count": 3,
   "metadata": {},
   "outputs": [],
   "source": [
    "url = \"https://www.google.com/maps\"\n",
    "driver.get(url)"
   ]
  },
  {
   "cell_type": "code",
   "execution_count": 4,
   "metadata": {},
   "outputs": [],
   "source": [
    "def get_stars():\n",
    "    # star = driver.find_element(By.CLASS_NAME, \"ceNzKf\")\n",
    "    star_element = WebDriverWait(driver, 20).until(EC.element_to_be_clickable((By.CLASS_NAME, \"ceNzKf\")))    #等待搜尋格出現\n",
    "    star = star_element.get_attribute(\"aria-label\")\n",
    "    print(star)\n",
    "    return None"
   ]
  },
  {
   "cell_type": "code",
   "execution_count": 5,
   "metadata": {},
   "outputs": [],
   "source": [
    "def get_reviews():\n",
    "    WebDriverWait(driver, 20).until(EC.element_to_be_clickable((By.XPATH, \"/html/body/div[3]/div[9]/div[9]/div/div/div[1]/div[2]/div/div[1]/div/div/div[3]/div/div/button[2]/div[2]/div[2]\")))\n",
    "    return None"
   ]
  },
  {
   "cell_type": "code",
   "execution_count": 4,
   "metadata": {},
   "outputs": [],
   "source": [
    "search_input = \"台南餐廳\"\n",
    "# class=\"tactile-searchbox-input\"\n",
    "elem_1 = WebDriverWait(driver, 20).until(EC.element_to_be_clickable((By.CLASS_NAME, \"tactile-searchbox-input\")))    #等待搜尋格出現\n",
    "elem_1.send_keys(search_input)  #在搜尋格輸入\n",
    "time.sleep(1)\n",
    "elem_2 = driver.find_element(By.CLASS_NAME, \"mL3xi\")        #按下搜尋\n",
    "elem_2.click()"
   ]
  },
  {
   "cell_type": "code",
   "execution_count": 5,
   "metadata": {},
   "outputs": [
    {
     "name": "stdout",
     "output_type": "stream",
     "text": [
      "府城台南美食\n"
     ]
    }
   ],
   "source": [
    "\n",
    "# Find all elements with class name \"hfpxzc\"\n",
    "results = WebDriverWait(driver, 10).until(\n",
    "    EC.presence_of_all_elements_located((By.CLASS_NAME, \"hfpxzc\"))\n",
    ")\n",
    "#續個打開搜尋結果\n",
    "for result in results[:1]:\n",
    "    label = result.get_attribute(\"aria-label\")\n",
    "    # if label in visited:\n",
    "    #     continue\n",
    "    # Simulate the key press of Ctrl (or Command on macOS) while clicking on the link\n",
    "    actions = ActionChains(driver)\n",
    "    actions.key_down(Keys.CONTROL).click(result).key_up(Keys.CONTROL).perform()\n",
    "    \n",
    "    print(label)"
   ]
  },
  {
   "cell_type": "code",
   "execution_count": 6,
   "metadata": {},
   "outputs": [],
   "source": [
    "# Switch to the new tab\n",
    "driver.switch_to.window(driver.window_handles[-1])\n",
    "\n",
    "time.sleep(3)\n",
    "\n",
    "# 按\"評論\"\n",
    "WebDriverWait(driver, 20).until(EC.element_to_be_clickable((By.XPATH, \"/html/body/div[3]/div[9]/div[9]/div/div/div[1]/div[2]/div/div[1]/div/div/div[3]/div/div/button[2]/div[2]/div[2]\"))).click()\n",
    "\n",
    "time.sleep(3)"
   ]
  },
  {
   "cell_type": "code",
   "execution_count": 7,
   "metadata": {},
   "outputs": [
    {
     "name": "stdout",
     "output_type": "stream",
     "text": [
      "220新北市板橋區新站路28號遠東大樓B1樓\n"
     ]
    }
   ],
   "source": [
    "address = driver.find_element(By.CLASS_NAME, \"Io6YTe\").text\n",
    "print(address)"
   ]
  },
  {
   "cell_type": "code",
   "execution_count": 11,
   "metadata": {},
   "outputs": [
    {
     "name": "stdout",
     "output_type": "stream",
     "text": [
      "yesyesyesyesyesyesyesyesyesyesyesyes"
     ]
    }
   ],
   "source": [
    "for i in range(10):\n",
    "    print(\"yes\", end=\"\")\n",
    "print(\"yes\",end = \"\")\n",
    "print(\"yes\", end=\"\")"
   ]
  },
  {
   "cell_type": "code",
   "execution_count": 2,
   "metadata": {},
   "outputs": [
    {
     "name": "stderr",
     "output_type": "stream",
     "text": [
      "100%|██████████| 100/100 [00:10<00:00,  9.87it/s]\n"
     ]
    }
   ],
   "source": [
    "from tqdm import tqdm\n",
    "import time\n",
    "\n",
    "for i in tqdm(range(100)):\n",
    "    time.sleep(0.1)"
   ]
  },
  {
   "cell_type": "code",
   "execution_count": null,
   "metadata": {},
   "outputs": [],
   "source": [
    "driver.find"
   ]
  },
  {
   "cell_type": "code",
   "execution_count": 9,
   "metadata": {},
   "outputs": [
    {
     "name": "stdout",
     "output_type": "stream",
     "text": [
      "1\n"
     ]
    }
   ],
   "source": [
    "search_ammount = 10\n",
    "scroll = search_ammount//7\n",
    "print(scroll)"
   ]
  },
  {
   "cell_type": "code",
   "execution_count": 42,
   "metadata": {},
   "outputs": [],
   "source": [
    "# 按排序->最新\n",
    "time.sleep(2)\n",
    "driver.find_element(By.XPATH, \"/html/body/div[3]/div[9]/div[9]/div/div/div[1]/div[2]/div/div[1]/div/div/div[3]/div[7]/div[2]/button/span/span\").click()\n",
    "driver.find_element(By.XPATH, \"/html/body/div[3]/div[3]/div[1]/div[2]\").click()"
   ]
  },
  {
   "cell_type": "code",
   "execution_count": 43,
   "metadata": {},
   "outputs": [],
   "source": [
    "# move cursor\n",
    "pyautogui.moveTo(200,600,1)\n",
    "pyautogui.scroll(-10)\n",
    "\n",
    "time.sleep(1)\n",
    "\n",
    "button = driver.find_elements(By.TAG_NAME, 'button')\n",
    "for m in button:\n",
    "    if m.text == \"全文\":\n",
    "        m.click()"
   ]
  },
  {
   "cell_type": "code",
   "execution_count": 4,
   "metadata": {},
   "outputs": [],
   "source": [
    "test = [1,2,3,4,5]"
   ]
  },
  {
   "cell_type": "code",
   "execution_count": 5,
   "metadata": {},
   "outputs": [
    {
     "name": "stdout",
     "output_type": "stream",
     "text": [
      "[5]\n"
     ]
    }
   ],
   "source": [
    "print(test[-1:])"
   ]
  },
  {
   "cell_type": "code",
   "execution_count": 70,
   "metadata": {},
   "outputs": [
    {
     "name": "stdout",
     "output_type": "stream",
     "text": [
      "---\n",
      "服務 : 內用\n",
      "餐點類型 : 晚餐\n",
      "平均每人消費金額 : $1-200\n",
      "建議的餐點 : 羊肉炒飯\n",
      "---\n",
      "服務 : 內用\n",
      "餐點類型 : 晚餐\n",
      "平均每人消費金額 : $1-200\n",
      "---\n",
      "餐點類型 : 晚餐\n",
      "平均每人消費金額 : $1-200\n",
      "餐點 : 5\n",
      "服務 : 5\n",
      "氣氛 : 5\n",
      "建議的餐點 : 鱔魚麵\n",
      "---\n",
      "---\n",
      "服務 : 內用\n",
      "餐點類型 : 晚餐\n",
      "平均每人消費金額 : $1-200\n",
      "餐點 : 5\n",
      "服務 : 5\n",
      "氣氛 : 5\n",
      "---\n",
      "服務 : 外帶\n",
      "餐點類型 : 晚餐\n",
      "平均每人消費金額 : $1-200\n",
      "餐點 : 4\n",
      "服務 : 3\n",
      "氣氛 : 3\n",
      "---\n",
      "---\n",
      "服務 : 內用\n",
      "餐點類型 : 晚餐\n",
      "平均每人消費金額 : $1-200\n",
      "---\n",
      "---\n"
     ]
    }
   ],
   "source": [
    "# get place's name\n",
    "input_element = driver.find_element(By.CLASS_NAME, \"tactile-searchbox-input\")\n",
    "place = input_element.get_attribute(\"value\")\n",
    "\n",
    "# create list\n",
    "comments_data = []\n",
    "\n",
    "# get comments\n",
    "comments = driver.find_elements(By.CLASS_NAME, 'jftiEf')\n",
    "for comment in comments:\n",
    "    # get name\n",
    "    name = comment.find_element(By.CLASS_NAME, \"d4r55 \")\n",
    "    # get review\n",
    "    try:\n",
    "        review = comment.find_element(By.CLASS_NAME, \"wiI7pd\")\n",
    "        review = review.text.replace(\"\\n\",\" \")\n",
    "    except:\n",
    "        review = \"None\"\n",
    "\n",
    "    # Find the element that contains the stars\n",
    "    stars_element = comment.find_element(By.CLASS_NAME, \"kvMYJc\")\n",
    "\n",
    "    # Count the number of elements with the class \"vzX5Ic\" to get the rating\n",
    "    rating = 0\n",
    "    rating = len(comment.find_elements(By.CLASS_NAME, 'vzX5Ic'))\n",
    "    service = None\n",
    "    # 服務\n",
    "    try:\n",
    "        service = comment.find_elements(By.CLASS_NAME, \"RfDO5c\")\n",
    "    except:\n",
    "        service = \"None\"\n",
    "\n",
    "    # Time\n",
    "    review_time = comment.find_element(By.CLASS_NAME, \"rsqaWe\")\n",
    "\n",
    "    # print(\"餐廳:\", place)\n",
    "    # print(\"名字:\", name.text)\n",
    "    # print(\"評分:\", rating)\n",
    "    # print(\"時間:\", review_time.text)\n",
    "    # print(\"評論:\", review)\n",
    "\n",
    "    #各細節\n",
    "    skip = False\n",
    "    detail = []\n",
    "    for i in range(0, len(service)):\n",
    "        if skip == False:\n",
    "            if \"：\" in service[i].text:\n",
    "                split_string = service[i].text.split(\"：\")\n",
    "                ser = split_string[0]\n",
    "                vice = split_string[1]\n",
    "                detail.append(ser)\n",
    "                detail.append(vice)\n",
    "            else:\n",
    "                ser = service[i].text\n",
    "                vice = service[i+1].text\n",
    "                detail.append(ser)\n",
    "                detail.append(vice)                \n",
    "                skip = True\n",
    "            print(ser, \":\", vice)\n",
    "        else:\n",
    "            skip = False\n",
    "    print(\"---\")\n",
    "    comments_data.append({\n",
    "        \"地點\":place,\n",
    "        \"名字\":name.text,\n",
    "        \"評分\":rating,\n",
    "        \"時間\":review_time.text,\n",
    "        \"評論\":review,\n",
    "        **{detail[i]:detail[i+1] for i in range(0, len(detail), 2)}})"
   ]
  },
  {
   "cell_type": "code",
   "execution_count": 71,
   "metadata": {},
   "outputs": [
    {
     "name": "stdout",
     "output_type": "stream",
     "text": [
      "[{'地點': '民享-台南美食', '名字': 'Zen Zen', '評分': 4, '時間': '3 小時前', '評論': '滷肉飯口味蠻台南的 四神湯口味不錯，腸子不少 但口感還好 炒青菜好吃且大盤 環境乾淨'}, {'地點': '民享-台南美食', '名字': 'edrbm hsueh', '評分': 4, '時間': '2 天前', '評論': '炒菜、炒飯都好吃', '服務': '內用', '餐點類型': '晚餐', '平均每人消費金額': '$1-200', '建議的餐點': '羊肉炒飯'}, {'地點': '民享-台南美食', '名字': '李佩芬', '評分': 4, '時間': '3 天前', '評論': '店裡乾淨整潔，燴飯類很好吃，青菜 肉給的份量很足，但當歸湯有苦味', '服務': '內用', '餐點類型': '晚餐', '平均每人消費金額': '$1-200'}, {'地點': '民享-台南美食', '名字': '白比', '評分': 5, '時間': '1 週前', '評論': '乾凈，衛生，吃飯的好去處 可惜菜色，湯品 ，可以再增加多一點 多點選擇性，會更好', '餐點類型': '晚餐', '平均每人消費金額': '$1-200', '餐點': '5', '服務': '5', '氣氛': '5', '建議的餐點': '鱔魚麵'}, {'地點': '民享-台南美食', '名字': 'a0979113798', '評分': 5, '時間': '1 週前', '評論': 'None'}, {'地點': '民享-台南美食', '名字': '徐仲昕', '評分': 5, '時間': '2 週前', '評論': '乾淨好吃 終於可以跟人家說我家巷口最好吃🤣 推薦: 四神湯（可以自己加米酒&湯可續） 炒飯也讚的', '服務': '5', '餐點類型': '晚餐', '平均每人消費金額': '$1-200', '餐點': '5', '氣氛': '5'}, {'地點': '民享-台南美食', '名字': 'Jim Lu 攟麓', '評分': 4, '時間': '3 週前', '評論': '今天幫朋友買外帶 朋友大力推薦羊炒$100 正好我也愛吃羊就買了一份 超好吃欸！ 生意很好，所以要稍微等一下唷！', '服務': '3', '餐點類型': '晚餐', '平均每人消費金額': '$1-200', '餐點': '4', '氣氛': '3'}, {'地點': '民享-台南美食', '名字': 'J L', '評分': 4, '時間': '3 週前', '評論': 'None'}, {'地點': '民享-台南美食', '名字': 'Renee', '評分': 5, '時間': '1 個月前', '評論': '超級好吃～老闆夫婦超友善\\U0001fa75 非常喜歡🫶🏻🫶🏻🫶🏻🫶🏻', '服務': '內用', '餐點類型': '晚餐', '平均每人消費金額': '$1-200'}, {'地點': '民享-台南美食', '名字': '曾明宗', '評分': 5, '時間': '1 個月前', '評論': 'None'}]\n"
     ]
    }
   ],
   "source": [
    "print(comments_data)"
   ]
  },
  {
   "cell_type": "code",
   "execution_count": 72,
   "metadata": {},
   "outputs": [],
   "source": [
    "# 存儲成json\n",
    "with open(\"Gmaps.json\", \"w\", encoding=\"utf-8\") as f:\n",
    "    json.dump(comments_data, f, ensure_ascii=False)"
   ]
  },
  {
   "cell_type": "code",
   "execution_count": 73,
   "metadata": {},
   "outputs": [],
   "source": [
    "# pandas存儲成csv\n",
    "df = pd.DataFrame(comments_data)\n",
    "df.to_csv('Gmaps.csv', index=False, encoding=\"utf-8\")"
   ]
  },
  {
   "cell_type": "code",
   "execution_count": null,
   "metadata": {},
   "outputs": [],
   "source": [
    "# # move cursor\n",
    "# pyautogui.moveTo(200,600,1)\n",
    "# pyautogui.scroll(-10)\n",
    "\n",
    "# time.sleep(1)\n",
    "\n",
    "# item = driver.find_elements(By.CLASS_NAME, 'jJc9Ad ')\n",
    "# for i in item:\n",
    "#     print(i)\n",
    "\n",
    "# time.sleep(3)\n",
    "\n",
    "# name_list = []\n",
    "# stars_list = []\n",
    "# review_list = []\n",
    "# duration_list = []\n",
    "\n",
    "# for i in item:\n",
    "\n",
    "#     button = i.find_elements(By.TAG_NAME, 'button')\n",
    "#     for m in button:\n",
    "#         if m.text == \"More\":\n",
    "#             m.click()\n",
    "#     time.sleep(5)\n",
    "\n",
    "#     name = i.find_elements(By.CLASS_NAME, \"d4r55\")\n",
    "#     stars = i.find_elements(By.CLASS_NAME, \"kvMYJc\")\n",
    "#     review = i.find_elements(By.CLASS_NAME, \"wiI7pd\")\n",
    "#     duration = i.find_elements(By.CLASS_NAME, \"rsqaWe\")\n",
    "\n",
    "#     for j,k,l,p in zip(name,stars,review,duration):\n",
    "#         name_list.append(j.text)\n",
    "#         stars_list.append(p.text)\n",
    "#         review_list.append(k.get_attribute(\"aria-label\"))\n",
    "#         duration_list.append(l.text)"
   ]
  },
  {
   "attachments": {},
   "cell_type": "markdown",
   "metadata": {},
   "source": []
  },
  {
   "cell_type": "code",
   "execution_count": null,
   "metadata": {},
   "outputs": [],
   "source": [
    "# # close tab\n",
    "# driver.close()\n",
    "\n",
    "# # Switch back to the original tab\n",
    "# driver.switch_to.window(driver.window_handles[0])"
   ]
  }
 ],
 "metadata": {
  "kernelspec": {
   "display_name": "Python 3",
   "language": "python",
   "name": "python3"
  },
  "language_info": {
   "codemirror_mode": {
    "name": "ipython",
    "version": 3
   },
   "file_extension": ".py",
   "mimetype": "text/x-python",
   "name": "python",
   "nbconvert_exporter": "python",
   "pygments_lexer": "ipython3",
   "version": "3.10.8"
  },
  "orig_nbformat": 4
 },
 "nbformat": 4,
 "nbformat_minor": 2
}
