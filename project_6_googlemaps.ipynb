{
 "cells": [
  {
   "attachments": {},
   "cell_type": "markdown",
   "metadata": {},
   "source": [
    "https://medium.com/qiubingcheng/%E4%BB%A5python%E5%AF%A6%E7%8F%BE%E6%8E%A8%E8%96%A6%E7%B3%BB%E7%B5%B1%E7%9A%84%E5%8D%94%E5%90%8C%E9%81%8E%E6%BF%BE%E7%AE%97%E6%B3%95-d35cc1a1ec8a"
   ]
  },
  {
   "cell_type": "code",
   "execution_count": 301,
   "metadata": {},
   "outputs": [],
   "source": [
    "import zipfile\n",
    "import os\n",
    "import csv\n",
    "from dateutil.relativedelta import relativedelta\n",
    "import datetime\n",
    "import time\n",
    "import pandas as pd\n",
    "import numpy as np\n",
    "from selenium import webdriver\n",
    "from selenium.common.exceptions import TimeoutException\n",
    "from selenium.webdriver.common.by import By\n",
    "from selenium.webdriver.support import expected_conditions as EC\n",
    "from selenium.webdriver.support.ui import WebDriverWait\n",
    "from selenium.webdriver.common.keys import Keys\n",
    "from selenium.webdriver.support.select import Select\n",
    "from selenium.webdriver.chrome.options import Options\n",
    "from selenium.webdriver.common.action_chains import ActionChains\n",
    "import pyautogui\n"
   ]
  },
  {
   "cell_type": "code",
   "execution_count": 302,
   "metadata": {},
   "outputs": [],
   "source": [
    "options = Options()\n",
    "options.chrome_executable_path= \"D:\\Python\\chromedriver.exe\"\n",
    "# options.add_argument(\"--start-maximized\")\n",
    "# options.add_argument(\"window-size=1920,1080\")\n",
    "# option.add_argument(\"--disable-notifications\")\n",
    "# option.add_argument(\"--disable-popup-blocking\")\n",
    "# option.add_argument('--headless=new') # 打開背景模式\n",
    "driver = webdriver.Chrome(options=options)"
   ]
  },
  {
   "cell_type": "code",
   "execution_count": 303,
   "metadata": {},
   "outputs": [],
   "source": [
    "url = \"https://www.google.com/maps\"\n",
    "driver.get(url)"
   ]
  },
  {
   "cell_type": "code",
   "execution_count": 304,
   "metadata": {},
   "outputs": [],
   "source": [
    "def search(search_input):\n",
    "    # class=\"tactile-searchbox-input\"\n",
    "    elem_1 = WebDriverWait(driver, 20).until(EC.element_to_be_clickable((By.CLASS_NAME, \"tactile-searchbox-input\")))    #等待搜尋格出現\n",
    "    elem_1.send_keys(search_input)  #在搜尋格輸入\n",
    "    time.sleep(1)\n",
    "    elem_2 = driver.find_element(By.CLASS_NAME, \"mL3xi\")        #按下搜尋\n",
    "    elem_2.click()"
   ]
  },
  {
   "cell_type": "code",
   "execution_count": 305,
   "metadata": {},
   "outputs": [],
   "source": [
    "def get_stars():\n",
    "    # star = driver.find_element(By.CLASS_NAME, \"ceNzKf\")\n",
    "    star_element = WebDriverWait(driver, 20).until(EC.element_to_be_clickable((By.CLASS_NAME, \"ceNzKf\")))    #等待搜尋格出現\n",
    "    star = star_element.get_attribute(\"aria-label\")\n",
    "    print(star)\n",
    "    return None"
   ]
  },
  {
   "cell_type": "code",
   "execution_count": 306,
   "metadata": {},
   "outputs": [],
   "source": [
    "def get_reviews():\n",
    "    WebDriverWait(driver, 20).until(EC.element_to_be_clickable((By.XPATH, \"/html/body/div[3]/div[9]/div[9]/div/div/div[1]/div[2]/div/div[1]/div/div/div[3]/div/div/button[2]/div[2]/div[2]\")))\n",
    "    return None"
   ]
  },
  {
   "cell_type": "code",
   "execution_count": 307,
   "metadata": {},
   "outputs": [],
   "source": [
    "# 按\"全文\"\n",
    "def click_mores():\n",
    "    mores = driver.find_elements(By.CLASS_NAME, \"w8nwRe kyuRq\")\n",
    "    for more in mores:\n",
    "        more.click()\n",
    "        print(\"clicked\")"
   ]
  },
  {
   "cell_type": "code",
   "execution_count": 308,
   "metadata": {},
   "outputs": [],
   "source": [
    "def switch_tab():\n",
    "    # Switch to the new tab\n",
    "    driver.switch_to.window(driver.window_handles[-1])\n",
    "\n",
    "    time.sleep(3)\n",
    "    \n",
    "    # 按\"評論\"\n",
    "    WebDriverWait(driver, 20).until(\n",
    "        EC.element_to_be_clickable((By.XPATH, \"/html/body/div[3]/div[9]/div[9]/div/div/div[1]/div[2]/div/div[1]/div/div/div[3]/div/div/button[2]/div[2]/div[2]\"))\n",
    "        ).click()\n",
    "    \n",
    "    time.sleep(3)\n",
    "\n",
    "    pyautogui.moveTo(200,600,3)\n",
    "    pyautogui.scroll(-10)\n",
    "\n",
    "    click_mores()   # 按\"全文\"\n",
    "    \n",
    "    time.sleep(5)\n",
    "\n",
    "    # Close the new tab\n",
    "    driver.close()\n",
    "\n",
    "    # Switch back to the original tab\n",
    "    driver.switch_to.window(driver.window_handles[0])"
   ]
  },
  {
   "cell_type": "code",
   "execution_count": 309,
   "metadata": {},
   "outputs": [],
   "source": [
    "def click_results(i):\n",
    "    # Find all elements with class name \"hfpxzc\"\n",
    "    results = WebDriverWait(driver, 10).until(\n",
    "        EC.presence_of_all_elements_located((By.CLASS_NAME, \"hfpxzc\"))\n",
    "    )\n",
    "    for result in results[0:i]:\n",
    "        # Simulate the key press of Ctrl (or Command on macOS) while clicking on the link\n",
    "        actions = ActionChains(driver)\n",
    "        actions.key_down(Keys.CONTROL).click(result).key_up(Keys.CONTROL).perform()\n",
    "        switch_tab()"
   ]
  },
  {
   "cell_type": "code",
   "execution_count": 310,
   "metadata": {},
   "outputs": [],
   "source": [
    "search(\"台北餐廳\")"
   ]
  },
  {
   "cell_type": "code",
   "execution_count": 311,
   "metadata": {},
   "outputs": [],
   "source": [
    "click_results(1)"
   ]
  },
  {
   "cell_type": "code",
   "execution_count": 312,
   "metadata": {},
   "outputs": [],
   "source": [
    "driver.close()"
   ]
  }
 ],
 "metadata": {
  "kernelspec": {
   "display_name": "Python 3",
   "language": "python",
   "name": "python3"
  },
  "language_info": {
   "codemirror_mode": {
    "name": "ipython",
    "version": 3
   },
   "file_extension": ".py",
   "mimetype": "text/x-python",
   "name": "python",
   "nbconvert_exporter": "python",
   "pygments_lexer": "ipython3",
   "version": "3.11.2"
  },
  "orig_nbformat": 4
 },
 "nbformat": 4,
 "nbformat_minor": 2
}
